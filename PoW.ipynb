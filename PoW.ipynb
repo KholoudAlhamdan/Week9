{
  "nbformat": 4,
  "nbformat_minor": 0,
  "metadata": {
    "colab": {
      "name": "PoW.ipynb",
      "provenance": [],
      "authorship_tag": "ABX9TyMmoC5Uh+L1qf6JfMn55QSc"
    },
    "kernelspec": {
      "name": "python3",
      "display_name": "Python 3"
    },
    "language_info": {
      "name": "python"
    }
  },
  "cells": [
    {
      "cell_type": "code",
      "metadata": {
        "colab": {
          "base_uri": "https://localhost:8080/"
        },
        "id": "OAoFlnwZwKNM",
        "outputId": "f47e2ba4-9d7f-42d7-cf0b-b8b3f34e7514"
      },
      "source": [
        "import hashlib \n",
        "import datetime\n",
        "t1 = datetime.datetime.now() \n",
        "nonce = 1 \n",
        "solution = False\n",
        "while solution == False: \n",
        "    ourhash = hashlib.sha256(str(nonce).encode()).hexdigest() \n",
        "    if ourhash[:7] == '0000000': \n",
        "        solution =True \n",
        "    nonce +=1 \n",
        "t2 = datetime.datetime.now() \n",
        "duration = t2 - t1 \n",
        "print (\"The hash is:\",ourhash)\n",
        "print (\"The nonce is:\",nonce)    \n",
        "print (\"Time elapsed:\",duration)"
      ],
      "execution_count": 1,
      "outputs": [
        {
          "output_type": "stream",
          "name": "stdout",
          "text": [
            "The hash is: 0000000399c6aea5ad0c709a9bc331a3ed6494702bd1d129d8c817a0257a1462\n",
            "The nonce is: 665783\n",
            "Time elapsed: 0:00:00.956019\n"
          ]
        }
      ]
    },
    {
      "cell_type": "code",
      "metadata": {
        "colab": {
          "base_uri": "https://localhost:8080/"
        },
        "id": "fi96NEBNzTvD",
        "outputId": "f194145b-0277-4949-dc7d-076d5da3e574"
      },
      "source": [
        "import hashlib \n",
        "import datetime\n",
        "t1 = datetime.datetime.now() \n",
        "nonce = 1 \n",
        "solution = False\n",
        "while solution == False: \n",
        "    ourhash = hashlib.sha256(str(nonce).encode()).hexdigest() \n",
        "    if ourhash[:8] == '00000000': \n",
        "        solution =True \n",
        "    nonce +=1 \n",
        "t2 = datetime.datetime.now() \n",
        "duration = t2 - t1 \n",
        "print (\"The hash is:\",ourhash)\n",
        "print (\"The nonce is:\",nonce)    \n",
        "print (\"Time elapsed:\",duration)"
      ],
      "execution_count": 2,
      "outputs": [
        {
          "output_type": "stream",
          "name": "stdout",
          "text": [
            "The hash is: 00000000690ed426ccf17803ebe2bd0884bcd58a1bb5e7477ead3645f356e7a9\n",
            "The nonce is: 426479725\n",
            "Time elapsed: 0:09:58.873297\n"
          ]
        }
      ]
    },
    {
      "cell_type": "code",
      "metadata": {
        "id": "rwoVK5Vg1b1k"
      },
      "source": [
        ""
      ],
      "execution_count": 2,
      "outputs": []
    }
  ]
}