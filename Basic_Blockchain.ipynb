{
  "nbformat": 4,
  "nbformat_minor": 0,
  "metadata": {
    "colab": {
      "name": "Basic_Blockchain.ipynb",
      "provenance": [],
      "collapsed_sections": [],
      "authorship_tag": "ABX9TyMNC1zHTUSb19wpH7jCEiY3"
    },
    "kernelspec": {
      "name": "python3",
      "display_name": "Python 3"
    },
    "language_info": {
      "name": "python"
    }
  },
  "cells": [
    {
      "cell_type": "code",
      "metadata": {
        "id": "b1MMrnRfr_H_"
      },
      "source": [
        "import hashlib\n",
        "import json\n",
        "import time \n",
        "from typing import List"
      ],
      "execution_count": 1,
      "outputs": []
    },
    {
      "cell_type": "code",
      "metadata": {
        "id": "602TRHkIxdpI"
      },
      "source": [
        "tx_1 = {\n",
        "   \"addr_from\": \"3J98t1WpEZ73CNmQviecrnyiWrnqRhWNLy\",\n",
        "   \"addr_to\": \"1BvBMSEYstWetqTFn5Au4m4GFg7xJaNVN2\",   \n",
        "   \"amount\": 99.00\n",
        "}\n",
        "\n",
        "tx_2 = {\n",
        "   \"addr_from\": \"4J99t1WpEZ73CNnQviecrnyiWrnqRhQOVy\",\n",
        "   \"addr_to\": \"9A1aMSEYstWetqTFn5Au949GFj7xJaVTV2\",   \n",
        "   \"amount\": 95.00\n",
        "}"
      ],
      "execution_count": 2,
      "outputs": []
    },
    {
      "cell_type": "code",
      "metadata": {
        "id": "9P8eEV9-sj1m"
      },
      "source": [
        "class Block():\n",
        "    def __init__(self, index:int = 0,\n",
        "                 transactions:list = [],\n",
        "                 timestamp:int = 0,\n",
        "                 cur_hash:str = \"\",\n",
        "                 previous_hash:str  = \"\",\n",
        "                 nonce:int = 0):\n",
        "\n",
        "      self.index:int = index\n",
        "      self.transactions:list = transactions\n",
        "      self.timestamp = timestamp\n",
        "      self.hash:str = cur_hash\n",
        "      self.previous_hash:str = previous_hash\n",
        "      self.nonce:int = nonce\n",
        "\n",
        "def compute_hash(self) -> str:\n",
        "        block_string = json.dumps(self.__dict__, sort_keys=True)\n",
        "        return hashlib.sha256(block_string.encode()).hexdigest()"
      ],
      "execution_count": 3,
      "outputs": []
    },
    {
      "cell_type": "code",
      "metadata": {
        "id": "5vMnk-CZvloL"
      },
      "source": [
        "class Blockchain:     \n",
        "   def __init__(self):\n",
        "      pass"
      ],
      "execution_count": 4,
      "outputs": []
    },
    {
      "cell_type": "code",
      "metadata": {
        "id": "2dYMC1ZEvziu"
      },
      "source": [
        "class Blockchain():     \n",
        "   def __init__(self):\n",
        "      self.unconfirmed_transactions:List[dict] = []\n",
        "      self.chain:List[Block] = []\n",
        "      self.difficulty:int = 2 \n",
        "      self.create_genesis_block()\n",
        "\n",
        "def create_genesis_block(self):\n",
        "       genesis_block = Block(index= 0, transactions=[], timestamp=time.time(), previous_hash=\"\")\n",
        "       genesis_block.hash = genesis_block.compute_hash()\n",
        "       self.chain.append(genesis_block)\n",
        "\n",
        "\n",
        "def get_last_block(self) -> Block:\n",
        "  return self.chain[-1]\n",
        "\n",
        "\n",
        "def proof_of_work(self, block:Block) -> str:\n",
        "  compute_hash = block.compute_hash()\n",
        "  while not compute_hash.startswitch('0' * Blockchain.difficulty):\n",
        "    block.nonce += 1 \n",
        "    compute_hash = block.compute_hash()\n",
        "    return compute_hash\n",
        "\n",
        "def is_valid_proof(self, block:Block, block_hash:str) -> bool:\n",
        "  return block_hash.startswitch('0' * Blockchain.difficulty) and block_hash == block.compute_hash()\n",
        "\n",
        "def add_block(self, block:Block, proof:str) -> bool:\n",
        "   last_block = self.last_block()\n",
        "   last_block.hash\n",
        "\n",
        "   if last_block.cur_hash != block.previous_hash:\n",
        "     return False\n",
        "\n",
        "   if not is_valid_proof(Block, proof):\n",
        "      return False\n",
        "\n",
        "      block.hash = proof_of_work\n",
        "      self.chain.append(block)\n",
        "\n",
        "      return True  \n",
        "\n",
        "\n",
        "def add_new_transaction(self, transaction:dict) -> None:\n",
        "  self.unconfirmed_transactions.append(transaction)\n",
        "\n",
        "def mine(self) -> int:\n",
        "  if len(self.unconfirmed_transactions)<1:\n",
        "    return -1\n",
        "\n",
        "    last_block = self.get_last_block()\n",
        "    self.unconfirmed_transactions.append(tx_2)\n",
        "\n",
        "\n",
        "    new_block = Block(index=last_block.index+1,\n",
        "                      transactions=self.unconfirmed_transactions,\n",
        "                      timestamp=int(time.time()),\n",
        "                      previous_hash=last_block.hash)\n",
        "    \n",
        "    proof = self.proof_of_work(new_block)\n",
        "    self.add_block(new_block, proof)\n",
        "\n",
        "    self.unconfirmed_transactions = []\n",
        "    return new_block.index"
      ],
      "execution_count": 5,
      "outputs": []
    }
  ]
}